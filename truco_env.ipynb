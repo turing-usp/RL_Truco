{
  "nbformat": 4,
  "nbformat_minor": 0,
  "metadata": {
    "colab": {
      "provenance": []
    },
    "kernelspec": {
      "name": "python3",
      "display_name": "Python 3"
    },
    "language_info": {
      "name": "python"
    }
  },
  "cells": [
    {
      "cell_type": "code",
      "execution_count": null,
      "metadata": {
        "id": "QT_-eN-MixgV"
      },
      "outputs": [],
      "source": [
        "import gym\n",
        "from gym import spaces\n",
        "import numpy as np\n",
        "import random\n",
        "\n",
        "import warnings\n",
        "warnings.filterwarnings(\"ignore\", category=DeprecationWarning)"
      ]
    },
    {
      "cell_type": "code",
      "source": [
        "# Dicionário do deck (apenas usado pra visualização se quiser e não internamente)\n",
        "dict_deck = {\n",
        "    14: '4p',  # 4 de paus (Zap)\n",
        "    13: '7c',  # 7 de copas (Copeta)\n",
        "    12: 'Ae',  # Ás de espadas (Espadilha)\n",
        "    11: '7o',  # 7 de ouros (Ourito)\n",
        "    10: '3',\n",
        "    9: '2',\n",
        "    8: 'A',\n",
        "    7: 'K',\n",
        "    6: 'J',\n",
        "    5: 'Q',\n",
        "    4: '7',\n",
        "    3: '6',\n",
        "    2: '5',\n",
        "    1: '4',\n",
        "    0: 'Carta já jogada'\n",
        "}"
      ],
      "metadata": {
        "id": "w-itFjfdnUIy"
      },
      "execution_count": null,
      "outputs": []
    },
    {
      "cell_type": "code",
      "source": [
        "class TrucoMineiroEnv(gym.Env):\n",
        "    def __init__(self):\n",
        "        # Cria o deck\n",
        "        self.deck =  self._create_deck()\n",
        "        # Contador de mãos jogadas\n",
        "        self.turn = 1\n",
        "        # Definindo o espaço de ação (0, 1, 2 representam as cartas na mão do agente)\n",
        "        self.action_space = spaces.Discrete(3)\n",
        "        # Definindo o espaço de observação (carta jogada pelo oponente, cartas na mão do agente, estado da primeira mão)\n",
        "        self.observation_space = spaces.Tuple((\n",
        "            spaces.Discrete(15),  # Carta jogada pelo oponente, 0 se for a vez do agente\n",
        "            spaces.MultiDiscrete([15]*3),  # Cartas na mão do agente (0 representa carta jogada)\n",
        "            spaces.Discrete(3)  # Estado da primeira mão (0 - essa é a primeira mão, 1 - oponente ganhou, 2 - empate, 3 - agente ganhou)\n",
        "        ))\n",
        "        # Variáveis de estado\n",
        "        self.opponent_card = 0  # Carta jogada pelo oponente\n",
        "        self.agent_cards = np.array([self.draw(), self.draw(), self.draw()])  # Agente compra 3 cartas\n",
        "        self.first_hand_winner = 0  # Estado da primeira mão\n",
        "\n",
        "    def _create_deck(self):\n",
        "        # Deck de cartas com 4p=14 > 7c=13 > Ae=12 > 7o=11 > 3=10 > 2=9 > A=8 > K=7 > J=6 > Q=5 > 7=4 > 6=3 > 5=2 > 4=1\n",
        "        # 1 de cada manilha, 3 cartas A, 3 cartas 4, 2 cartas 7 e as 4 das demais\n",
        "        return 1*[14] + 1*[13] + 1*[12] + 1*[11] + 4*[10] + 4*[9] + 3*[8] + 4*[7] + 4*[6] + 4*[5] + 2*[4] + 4*[3] + 4*[2] + 3*[1]\n",
        "\n",
        "    def draw(self):\n",
        "        # Compra uma carta do deck\n",
        "        if self.deck:\n",
        "            card_index = random.randint(0, len(self.deck) - 1)\n",
        "            card = self.deck.pop(card_index)\n",
        "            return card\n",
        "        else:\n",
        "            return None\n",
        "\n",
        "    def step(self, action):\n",
        "        # Executa a ação (joga uma carta se a ação for 1, 2 ou 3)\n",
        "        if action != 0:\n",
        "            played_card = self.agent_cards[action - 1]\n",
        "            self.agent_cards[action - 1] = 0  # Marca a carta como jogada\n",
        "        else:\n",
        "            played_card = 0\n",
        "\n",
        "        # Determina o vencedor da mão se ambos jogaram\n",
        "        if self.opponent_card != 0 and played_card != 0:\n",
        "            hand_winner = self._determine_hand_winner(self.opponent_card, played_card)\n",
        "\n",
        "        # Determina o vencedor da rodada, se existir\n",
        "        round_winner = self._determine_round_winner(hand_winner)\n",
        "\n",
        "        if self.turn == 1:\n",
        "          self.first_hand_winner = hand_winner\n",
        "\n",
        "        # Avança o turno\n",
        "        self.turn += 1\n",
        "\n",
        "        # Determina a recompensa (0 para empates ou rodada inacabada, +1 vitória, -1 derrota)\n",
        "        reward = 0 if round_winner == 0 else round_winner - 2\n",
        "\n",
        "        # Retorna a observação, a recompensa (-1, 0 ou 1) se a rodada acabou ou 0 se a rodada não acabou e a flag de rodada acabada\n",
        "        return (self.opponent_card, self.agent_cards, self.first_hand_winner), reward, round_winner != 0\n",
        "\n",
        "    def reset(self):\n",
        "        # Reseta o ambiente\n",
        "        self.deck =  self._create_deck()\n",
        "        self.turn = 1\n",
        "        self.opponent_card = 0\n",
        "        self.agent_cards = np.array([self.draw(), self.draw(), self.draw()])\n",
        "        self.first_hand_winner = 0\n",
        "        return self.opponent_card, self.agent_cards, self.first_hand_winner\n",
        "\n",
        "    def _determine_hand_winner(self, opponent_card, agent_card):\n",
        "        # Lógica para determinar o vencedor de uma mão (1=oponente ganha 2=empate 3=agente ganha)\n",
        "        if agent_card > opponent_card:\n",
        "          return 3\n",
        "        if agent_card < opponent_card:\n",
        "          return 1\n",
        "        return 2\n",
        "\n",
        "    def _determine_round_winner(self, hand_winner):\n",
        "        # Lógica para determinar o vencedor de uma rodada (0=indeterminado 1=oponente ganha 2=empate 3=agente ganha)\n",
        "        if self.turn == 3 or self.first_hand_winner == 2: # Turno 3 ou primeira mão empatou\n",
        "          return hand_winner\n",
        "        if self.first_hand_winner == 1 and hand_winner != 3: # Oponente ganha primeira mão\n",
        "          return 1\n",
        "        if self.first_hand_winner == 3 and hand_winner != 1: # Agente ganha primeira mão\n",
        "          return 3\n",
        "        return 0 # Default"
      ],
      "metadata": {
        "id": "MTjUqZkxjyks"
      },
      "execution_count": null,
      "outputs": []
    },
    {
      "cell_type": "code",
      "source": [
        "truco = TrucoMineiroEnv()\n",
        "print(f\"Cartas do agente: {[dict_deck[card_value] for card_value in truco.agent_cards]}\")\n",
        "truco.opponent_card = truco.draw()\n",
        "print(f\"Carta do oponente: {dict_deck[truco.opponent_card]}\")"
      ],
      "metadata": {
        "colab": {
          "base_uri": "https://localhost:8080/"
        },
        "id": "xFjGBGUiizCt",
        "outputId": "e00246ef-1ab8-478e-b587-2d7215d330cf"
      },
      "execution_count": null,
      "outputs": [
        {
          "output_type": "stream",
          "name": "stdout",
          "text": [
            "Cartas do agente: ['3', '6', 'Q']\n",
            "Carta do oponente: 5\n"
          ]
        }
      ]
    },
    {
      "cell_type": "code",
      "source": [
        "action = truco.action_space.sample()  # Escolhe uma ação aleatória (trocar pelo agente)\n",
        "observation, reward, done = truco.step(action)\n",
        "print(observation, reward)"
      ],
      "metadata": {
        "colab": {
          "base_uri": "https://localhost:8080/"
        },
        "id": "V9TRQSQSxQWj",
        "outputId": "5513abf6-8439-4578-cd2c-07efca3229cf"
      },
      "execution_count": null,
      "outputs": [
        {
          "output_type": "stream",
          "name": "stdout",
          "text": [
            "(2, array([10,  3,  5]), 0) 0\n"
          ]
        }
      ]
    },
    {
      "cell_type": "code",
      "source": [
        "truco = TrucoMineiroEnv()\n",
        "observation = truco.reset()\n",
        "done = False\n",
        "while not done:\n",
        "    print(f\"Cartas do agente: {[dict_deck[card_value] for card_value in truco.agent_cards]}\")\n",
        "    truco.opponent_card = truco.draw()\n",
        "    print(f\"Carta do oponente: {dict_deck[truco.opponent_card]}\")\n",
        "    while True:\n",
        "        action = random.randint(1, 3)  # Escolhe uma ação aleatória (trocar pelo agente)\n",
        "        if truco.agent_cards[action - 1] != 0:\n",
        "            break\n",
        "    print(f\"Carta jogada pelo agente: {dict_deck[truco.agent_cards[action - 1]]}\")\n",
        "    truco.opponent_card = truco.draw()\n",
        "    observation, reward, done = truco.step(action)\n",
        "\n",
        "    print(f\"Observação: {observation}\")\n",
        "    print(f\"Recompensa: {reward}\\n\")\n"
      ],
      "metadata": {
        "id": "5FupEmaajr37",
        "colab": {
          "base_uri": "https://localhost:8080/"
        },
        "outputId": "82e72b8b-009d-484f-dad1-e7fbf3926467"
      },
      "execution_count": null,
      "outputs": [
        {
          "output_type": "stream",
          "name": "stdout",
          "text": [
            "Cartas do agente: ['7c', 'Ae', '2']\n",
            "Carta do oponente: 3\n",
            "Carta jogada pelo agente: 2\n",
            "Observação: (3, array([13, 12,  0]), 3)\n",
            "Recompensa: 0\n",
            "\n",
            "Cartas do agente: ['7c', 'Ae', 'Carta já jogada']\n",
            "Carta do oponente: 5\n",
            "Carta jogada pelo agente: 7c\n",
            "Observação: (3, array([ 0, 12,  0]), 3)\n",
            "Recompensa: 1\n",
            "\n"
          ]
        }
      ]
    }
  ]
}