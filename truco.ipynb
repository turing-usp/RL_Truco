{
 "cells": [
  {
   "cell_type": "code",
   "execution_count": 2,
   "id": "initial_id",
   "metadata": {
    "collapsed": true
   },
   "outputs": [],
   "source": [
    "import numpy as np"
   ]
  },
  {
   "cell_type": "code",
   "execution_count": 19,
   "id": "9d828bf9",
   "metadata": {},
   "outputs": [],
   "source": [
    "\"\"\"\n",
    "state: [c1, c2, c3] -> cards in the agents hand\n",
    "        c4 -> card in the table\n",
    "        w -> who won the first round\n",
    "compress the state as single integer -> \n",
    "suppose that instead of 3 cards, it represents 3 coordinates in 3d space,\n",
    "we can ravel it as a integer, helping a bit with coding\n",
    "considering: \n",
    "4p -> 0; 7c -> 1; Ae -> 2; 7o -> 3; 3 -> 4; 2 -> 5; A -> 6 ...\n",
    "4 -> 13\n",
    "w is -1 if agent lost first round, 0 if draw/undecided, 1 if won\n",
    "\n",
    "action: c -> card to be played\n",
    "c = 0, 1 or 2, corresponding to the index of the card to be played\n",
    "\n",
    "i will be considering that env.step returns a done variable, that is True\n",
    "when the episode is over\n",
    "\n",
    "TODO:\n",
    "adopt convention: always sort the list of player cards, to avoid\n",
    "repeating states !! ex: [11, 10, 3] is the same as [3, 11, 10]\n",
    "also, leaving 0 always at the end of the list is required, and helps a lot\n",
    "\"\"\"\n",
    "\n",
    "class SarsaAgent:\n",
    "    def __init__(self, eps: float, alpha: float, gamma: float, env) -> None:\n",
    "        self.eps = eps\n",
    "        self.alpha = alpha\n",
    "        self.gamma = gamma\n",
    "        self.env = env\n",
    "        self.state_action_shape = (14, 14, 14, 14, 3, 3)\n",
    "        # dictionary to store Q values\n",
    "        self.Q = {}\n",
    "\n",
    "    def _convert_state_action(self, state: list[int], action: int) -> int:\n",
    "        state_action = [idx for idx in state]\n",
    "        state_action.append(action)\n",
    "        state_action[4] += 1 # converts the -1 to 0, so that we can use it here\n",
    "        return np.ravel_multi_index(state_action, self.state_action_shape)\n",
    "    \n",
    "    def _choose_greedy_action(self, state: list[int]) -> int:\n",
    "        action = 0\n",
    "        # add possible action if the card isnt 0, and it is the first 3 cards in the list\n",
    "        possible_actions = [i for i, idx in enumerate(state) if idx != 0 and i < 3]\n",
    "        # perform exploration\n",
    "        if np.random.uniform(0, 1) < self.eps:\n",
    "            return np.random.choice(possible_actions)\n",
    "        # perfom exploitation\n",
    "        else:\n",
    "            Q_values = []\n",
    "            for action in possible_actions:\n",
    "                compressed = self._convert_state_action(state, action)\n",
    "                # get the Q value, or return 0 if it doesnt have value yet\n",
    "                Q_values.append(self.Q.get(compressed, 0))\n",
    "            return np.argmax(Q_values)\n",
    "\n",
    "    def run(self, n_episodes: int) -> None:\n",
    "        reward = 0\n",
    "        for _ in range(n_episodes):\n",
    "            # obtain starting states and action\n",
    "            state_1 = self.env.reset()\n",
    "            action_1 = self._choose_greedy_action(state_1)\n",
    "            # loops through the episode\n",
    "            while True:\n",
    "                # get next state, reward and next action\n",
    "                state_2, reward, done = self.env.step(action_1)\n",
    "                action_2 = self._choose_greedy_action(state_2)\n",
    "\n",
    "                sa1_compressed = self._convert_state_action(state_1, action_1)\n",
    "                sa2_compressed = self._convert_state_action(state_2, action_2)\n",
    "\n",
    "                q1 = self.Q.get(sa1_compressed, 0)\n",
    "                q2 = self.Q.get(sa2_compressed, 0)\n",
    "                # updates the Q value\n",
    "                self.Q[sa1_compressed] = q1 + self.alpha * (reward + self.gamma*q2 - q1)\n",
    "\n",
    "                state_1 = state_2\n",
    "                action_1 = action_2\n",
    "\n",
    "                if done:\n",
    "                    break"
   ]
  },
  {
   "cell_type": "code",
   "execution_count": 22,
   "id": "c5f16240",
   "metadata": {},
   "outputs": [
    {
     "data": {
      "text/plain": [
       "[0, 2, 1, 0, 0, 0, 0, 0, 0, 0]"
      ]
     },
     "execution_count": 22,
     "metadata": {},
     "output_type": "execute_result"
    }
   ],
   "source": [
    "agent = SarsaAgent(0.1, 1)\n",
    "agent._convert_state_action([11, 10, 2, 4, -1], 0)\n",
    "agent.Q[289584] = 3\n",
    "select_action = [agent._choose_greedy_action([11, 10, 2, 4, -1]) for _ in range(10)]\n",
    "select_action"
   ]
  }
 ],
 "metadata": {
  "kernelspec": {
   "display_name": "Python 3",
   "language": "python",
   "name": "python3"
  },
  "language_info": {
   "codemirror_mode": {
    "name": "ipython",
    "version": 3
   },
   "file_extension": ".py",
   "mimetype": "text/x-python",
   "name": "python",
   "nbconvert_exporter": "python",
   "pygments_lexer": "ipython3",
   "version": "3.12.2"
  }
 },
 "nbformat": 4,
 "nbformat_minor": 5
}
