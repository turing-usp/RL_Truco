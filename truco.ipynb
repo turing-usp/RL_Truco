{
 "cells": [
  {
   "cell_type": "code",
   "execution_count": 1,
   "id": "initial_id",
   "metadata": {
    "collapsed": true
   },
   "outputs": [],
   "source": [
    "# Imports\n",
    "import numpy as np\n",
    "import matplotlib.pyplot as plt\n",
    "from tqdm import tqdm\n",
    "import random\n",
    "\n",
    "import torch\n",
    "from torch import nn\n",
    "import torch.nn.functional as F\n",
    "from torch.optim import AdamW\n",
    "import copy\n",
    "\n",
    "import gymnasium as gym\n",
    "\n",
    "from truco_env import TrucoMineiroEnv, test_game\n",
    "from truco_players import LearningPlayer, RandomBotPlayer, NetworkBotPlayer, HumanPlayer\n",
    "\n",
    "import warnings\n",
    "warnings.filterwarnings(\"ignore\", category=DeprecationWarning)"
   ]
  },
  {
   "cell_type": "code",
   "execution_count": 2,
   "id": "a8a05a51",
   "metadata": {},
   "outputs": [
    {
     "data": {
      "text/plain": [
       "device(type='cpu')"
      ]
     },
     "execution_count": 2,
     "metadata": {},
     "output_type": "execute_result"
    }
   ],
   "source": [
    "device = torch.device(\"cuda:0\" if torch.cuda.is_available() else \"cpu\")\n",
    "device"
   ]
  },
  {
   "cell_type": "code",
   "execution_count": 3,
   "id": "e4c1e114",
   "metadata": {},
   "outputs": [],
   "source": [
    "#test_game()"
   ]
  },
  {
   "cell_type": "markdown",
   "id": "bbaef919",
   "metadata": {},
   "source": [
    "# Deep QLearning"
   ]
  },
  {
   "cell_type": "code",
   "execution_count": 4,
   "id": "b4a7945e",
   "metadata": {},
   "outputs": [],
   "source": [
    "class TransitionBuffer:\n",
    "\n",
    "    def __init__(self, capacity=1000000):\n",
    "        self.capacity = capacity\n",
    "        self.memory = []\n",
    "        self.position = 0\n",
    "\n",
    "    def insert(self, transition):\n",
    "        if len(self.memory) < self.capacity:\n",
    "            self.memory.append(None)\n",
    "        self.memory[self.position] = transition\n",
    "        self.position = (self.position + 1) % self.capacity\n",
    "\n",
    "    def sample(self, batch_size):\n",
    "        assert self.can_sample(batch_size)\n",
    "\n",
    "        batch = random.sample(self.memory, batch_size)\n",
    "        batch = zip(*batch)\n",
    "        return [torch.cat(items) for items in batch]\n",
    "\n",
    "    def can_sample(self, batch_size):\n",
    "        return len(self.memory) >= batch_size * 10\n",
    "\n",
    "    def __len__(self):\n",
    "        return len(self.memory)"
   ]
  },
  {
   "cell_type": "code",
   "execution_count": 5,
   "id": "c0a1d9c6",
   "metadata": {},
   "outputs": [],
   "source": [
    "class PlayerBuffer:\n",
    "    def __init__(self, selection_window):\n",
    "        self.buffer = []\n",
    "        self.selection_window = selection_window\n",
    "\n",
    "    def register(self, player_network):\n",
    "        self.buffer.append(player_network)\n",
    "    \n",
    "    def sample(self, num_players):\n",
    "        return random.sample(num_players * self.buffer[-self.selection_window:], num_players)"
   ]
  },
  {
   "cell_type": "code",
   "execution_count": 6,
   "id": "da1bde0a",
   "metadata": {},
   "outputs": [],
   "source": [
    "class PreprocessEnv(gym.Wrapper):\n",
    "\n",
    "    def __init__(self, env):\n",
    "        gym.Wrapper.__init__(self, env)\n",
    "\n",
    "    def reset(self, reset_score):\n",
    "        obs, info = self.env.reset(reset_score=reset_score)\n",
    "\n",
    "        obs = np.array([*obs[\"current_player_cards\"], obs[\"other_card\"], obs[\"first_hand_winner\"], obs[\"current_player_score\"], obs[\"other_player_score\"], obs[\"current_bet\"], int(obs[\"trucable\"]), int(obs[\"respond\"]), *obs[\"card_frequency\"]], dtype=np.int64)\n",
    "        obs = torch.from_numpy(obs).unsqueeze(dim=0).float().to(device)\n",
    "\n",
    "        return obs, info\n",
    "\n",
    "    def step(self, action):\n",
    "        obs, reward, done, info = self.env.step(action.item())\n",
    "\n",
    "        next_state = np.array([*obs[\"current_player_cards\"], obs[\"other_card\"], obs[\"first_hand_winner\"], obs[\"current_player_score\"], obs[\"other_player_score\"], obs[\"current_bet\"], int(obs[\"trucable\"]), int(obs[\"respond\"]), *obs[\"card_frequency\"]], dtype=np.int64)\n",
    "        next_state = torch.from_numpy(next_state).unsqueeze(dim=0).float().to(device)\n",
    "        reward = torch.tensor(reward).view(1, -1).float().to(device)\n",
    "        done = torch.tensor(done).view(1, -1).to(device)\n",
    "\n",
    "        return next_state, reward, done, info"
   ]
  },
  {
   "cell_type": "code",
   "execution_count": 7,
   "id": "e5a27719",
   "metadata": {},
   "outputs": [],
   "source": [
    "class DeepQLearning:\n",
    "    def __init__(self, env, eps, alpha, gamma, transition_batch_size, copy_period, change_period, selection_window, Q_network=None):\n",
    "        self.env = PreprocessEnv(env)\n",
    "        self.eps = eps\n",
    "        self.alpha = alpha\n",
    "        self.gamma = gamma\n",
    "        self.transition_batch_size = transition_batch_size\n",
    "        if copy_period > change_period: raise Exception(\"copy_period cannot be grater than change_period!\")\n",
    "        self.copy_period = copy_period\n",
    "        self.change_period = change_period\n",
    "        self.selection_window = selection_window\n",
    "        self.state_dims = self._calculate_state_dims(env)\n",
    "        self.num_actions = env.action_space.n\n",
    "        self.num_players = env.num_players\n",
    "        self._initialize_networks(Q_network)\n",
    "\n",
    "    def _calculate_state_dims(self, env: TrucoMineiroEnv):\n",
    "        state_dims = 0\n",
    "        for i in env.observation_space.values():\n",
    "            state_dims += 1 if type(i) == gym.spaces.Discrete else len(i)\n",
    "        return state_dims\n",
    "    \n",
    "    def _initialize_networks(self, Q_network=None):\n",
    "        if Q_network == None:\n",
    "            self.Q_network = nn.Sequential(\n",
    "                nn.Linear(self.state_dims, 64),\n",
    "                nn.ReLU(),\n",
    "                nn.Linear(64, 64),\n",
    "                nn.ReLU(),\n",
    "                nn.Linear(64, self.num_actions)\n",
    "            ).to(device)\n",
    "        else:\n",
    "            self.Q_network = Q_network\n",
    "\n",
    "        self.target_Q_network = copy.deepcopy(self.Q_network).eval().to(device)\n",
    "\n",
    "    def _choose_epsgreedy_action(self, state, info):\n",
    "        valid_actions = info[\"valid_actions\"]\n",
    "\n",
    "        if np.random.uniform(0, 1) < self.eps:\n",
    "            action = np.random.choice(valid_actions)\n",
    "            return torch.tensor(action).view(1, -1).to(device)\n",
    "        else:\n",
    "            av = self.Q_network(state).detach()\n",
    "            action = valid_actions[np.argmax([av[0, valid_action].item() for valid_action in valid_actions])]\n",
    "            return torch.tensor(action).view(1, -1).to(device)\n",
    "    \n",
    "\n",
    "    def run(self, num_episodes):\n",
    "        optim = AdamW(self.Q_network.parameters(), lr=self.alpha)\n",
    "        transition_buffer = TransitionBuffer()\n",
    "        player_buffer = PlayerBuffer(self.selection_window)\n",
    "        stats = {'MSE Loss': [], 'Returns': [], 'wins': 0, 'winrate': []}\n",
    "\n",
    "        for episode in tqdm(range(1, num_episodes + 1)):\n",
    "            state, info = self.env.reset(reset_score=True)\n",
    "            done = False\n",
    "            gamma_pot = 1\n",
    "            ep_return = 0\n",
    "            while not done:\n",
    "                action = self._choose_epsgreedy_action(state, info)\n",
    "                next_state, reward, done, info = self.env.step(action)\n",
    "\n",
    "                transition_buffer.insert([state, action, reward, done, next_state])\n",
    "\n",
    "                if transition_buffer.can_sample(self.transition_batch_size):\n",
    "                    state_b, action_b, reward_b, done_b, next_state_b = transition_buffer.sample(self.transition_batch_size)\n",
    "                    qsa_b = self.Q_network(state_b).gather(1, action_b)\n",
    "\n",
    "                    next_qsa_b = self.target_Q_network(next_state_b)\n",
    "                    next_qsa_b = torch.max(next_qsa_b, dim=-1, keepdim=True)[0]\n",
    "\n",
    "                    target_b = reward_b + ~done_b * self.gamma * next_qsa_b\n",
    "                    loss = F.mse_loss(qsa_b, target_b)\n",
    "                    self.Q_network.zero_grad()\n",
    "                    loss.backward()\n",
    "                    optim.step()\n",
    "\n",
    "                    stats['MSE Loss'].append(loss.item())\n",
    "\n",
    "                ep_return += reward.item() * gamma_pot\n",
    "                gamma_pot *= self.gamma\n",
    "                if info[\"round_ended\"]:\n",
    "                    next_state, info = self.env.reset(reset_score=False)\n",
    "                else:\n",
    "                    state = next_state\n",
    "\n",
    "            if info['victory']:\n",
    "                stats['wins'] += 1\n",
    "            if episode % 100 == 0:\n",
    "                stats['winrate'].append(stats['wins']/episode)\n",
    "\n",
    "            stats['Returns'].append(ep_return)\n",
    "\n",
    "            if episode % 10 == 0:\n",
    "                self.target_Q_network.load_state_dict(self.Q_network.state_dict())\n",
    "            \n",
    "            if episode % self.copy_period == 0:\n",
    "                player_buffer.register(NetworkBotPlayer(f\"Number {episode//self.copy_period} # Episode {episode}\", copy.deepcopy(self.Q_network).eval().to(device)))\n",
    "\n",
    "            if episode % self.change_period == 0:\n",
    "                sampled_players = player_buffer.sample(self.num_players - 1)\n",
    "                all_players = [LearningPlayer(\"deep_qlearning\"), *sampled_players]\n",
    "                self.env.unwrapped.set_players([all_players[0:self.num_players//2], all_players[self.num_players//2:self.num_players]])\n",
    "\n",
    "        return stats"
   ]
  },
  {
   "cell_type": "code",
   "execution_count": 8,
   "id": "95bb6133",
   "metadata": {},
   "outputs": [
    {
     "name": "stderr",
     "output_type": "stream",
     "text": [
      "  0%|          | 100/50000 [00:03<27:21, 30.39it/s]\n"
     ]
    },
    {
     "name": "stdout",
     "output_type": "stream",
     "text": [
      "av: tensor([[-0.3480, -0.7611,  0.1836, -0.6451, -0.0413, -1.7756]])\n",
      "valid_actions: {'current_player_cards': array([11, 10,  3]), 'round_score': [0, 0], 'game_score': [0, 0], 'hand_winner': 0, 'first_hand_winner': 0, 'current_bet_value': 2, 'round_ended': False, 'valid_actions': [0, 1, 2, 3], 'victory': False}\n"
     ]
    },
    {
     "ename": "TypeError",
     "evalue": "new(): invalid data type 'str'",
     "output_type": "error",
     "traceback": [
      "\u001b[1;31m---------------------------------------------------------------------------\u001b[0m",
      "\u001b[1;31mTypeError\u001b[0m                                 Traceback (most recent call last)",
      "Input \u001b[1;32mIn [8]\u001b[0m, in \u001b[0;36m<cell line: 18>\u001b[1;34m()\u001b[0m\n\u001b[0;32m      1\u001b[0m env \u001b[38;5;241m=\u001b[39m TrucoMineiroEnv(\n\u001b[0;32m      2\u001b[0m     num_players\u001b[38;5;241m=\u001b[39m\u001b[38;5;241m2\u001b[39m,\n\u001b[0;32m      3\u001b[0m     teams\u001b[38;5;241m=\u001b[39m[[LearningPlayer(\u001b[38;5;124m\"\u001b[39m\u001b[38;5;124mdeep_qlearning\u001b[39m\u001b[38;5;124m\"\u001b[39m)], [RandomBotPlayer(\u001b[38;5;124m\"\u001b[39m\u001b[38;5;124mAleatório\u001b[39m\u001b[38;5;124m\"\u001b[39m)]]\n\u001b[0;32m      4\u001b[0m )\n\u001b[0;32m      6\u001b[0m deep_qlearning \u001b[38;5;241m=\u001b[39m DeepQLearning(\n\u001b[0;32m      7\u001b[0m     env \u001b[38;5;241m=\u001b[39m env,\n\u001b[0;32m      8\u001b[0m     eps \u001b[38;5;241m=\u001b[39m \u001b[38;5;241m0.01\u001b[39m,\n\u001b[1;32m   (...)\u001b[0m\n\u001b[0;32m     15\u001b[0m     Q_network \u001b[38;5;241m=\u001b[39m \u001b[38;5;28;01mNone\u001b[39;00m\n\u001b[0;32m     16\u001b[0m )\n\u001b[1;32m---> 18\u001b[0m stats_deep_qlearning \u001b[38;5;241m=\u001b[39m \u001b[43mdeep_qlearning\u001b[49m\u001b[38;5;241;43m.\u001b[39;49m\u001b[43mrun\u001b[49m\u001b[43m(\u001b[49m\u001b[43mnum_episodes\u001b[49m\u001b[38;5;241;43m=\u001b[39;49m\u001b[43m(\u001b[49m\u001b[43mnum_episodes\u001b[49m\u001b[38;5;241;43m:=\u001b[39;49m\u001b[38;5;241;43m50000\u001b[39;49m\u001b[43m)\u001b[49m\u001b[43m)\u001b[49m\n",
      "Input \u001b[1;32mIn [7]\u001b[0m, in \u001b[0;36mDeepQLearning.run\u001b[1;34m(self, num_episodes)\u001b[0m\n\u001b[0;32m     60\u001b[0m \u001b[38;5;28;01mwhile\u001b[39;00m \u001b[38;5;129;01mnot\u001b[39;00m done:\n\u001b[0;32m     61\u001b[0m     action \u001b[38;5;241m=\u001b[39m \u001b[38;5;28mself\u001b[39m\u001b[38;5;241m.\u001b[39m_choose_epsgreedy_action(state, info)\n\u001b[1;32m---> 62\u001b[0m     next_state, reward, done, info \u001b[38;5;241m=\u001b[39m \u001b[38;5;28;43mself\u001b[39;49m\u001b[38;5;241;43m.\u001b[39;49m\u001b[43menv\u001b[49m\u001b[38;5;241;43m.\u001b[39;49m\u001b[43mstep\u001b[49m\u001b[43m(\u001b[49m\u001b[43maction\u001b[49m\u001b[43m)\u001b[49m\n\u001b[0;32m     64\u001b[0m     transition_buffer\u001b[38;5;241m.\u001b[39minsert([state, action, reward, done, next_state])\n\u001b[0;32m     66\u001b[0m     \u001b[38;5;28;01mif\u001b[39;00m transition_buffer\u001b[38;5;241m.\u001b[39mcan_sample(\u001b[38;5;28mself\u001b[39m\u001b[38;5;241m.\u001b[39mtransition_batch_size):\n",
      "Input \u001b[1;32mIn [6]\u001b[0m, in \u001b[0;36mPreprocessEnv.step\u001b[1;34m(self, action)\u001b[0m\n\u001b[0;32m     14\u001b[0m \u001b[38;5;28;01mdef\u001b[39;00m \u001b[38;5;21mstep\u001b[39m(\u001b[38;5;28mself\u001b[39m, action):\n\u001b[1;32m---> 15\u001b[0m     obs, reward, done, info \u001b[38;5;241m=\u001b[39m \u001b[38;5;28;43mself\u001b[39;49m\u001b[38;5;241;43m.\u001b[39;49m\u001b[43menv\u001b[49m\u001b[38;5;241;43m.\u001b[39;49m\u001b[43mstep\u001b[49m\u001b[43m(\u001b[49m\u001b[43maction\u001b[49m\u001b[38;5;241;43m.\u001b[39;49m\u001b[43mitem\u001b[49m\u001b[43m(\u001b[49m\u001b[43m)\u001b[49m\u001b[43m)\u001b[49m\n\u001b[0;32m     17\u001b[0m     next_state \u001b[38;5;241m=\u001b[39m np\u001b[38;5;241m.\u001b[39marray([\u001b[38;5;241m*\u001b[39mobs[\u001b[38;5;124m\"\u001b[39m\u001b[38;5;124mcurrent_player_cards\u001b[39m\u001b[38;5;124m\"\u001b[39m], obs[\u001b[38;5;124m\"\u001b[39m\u001b[38;5;124mother_card\u001b[39m\u001b[38;5;124m\"\u001b[39m], obs[\u001b[38;5;124m\"\u001b[39m\u001b[38;5;124mfirst_hand_winner\u001b[39m\u001b[38;5;124m\"\u001b[39m], obs[\u001b[38;5;124m\"\u001b[39m\u001b[38;5;124mcurrent_player_score\u001b[39m\u001b[38;5;124m\"\u001b[39m], obs[\u001b[38;5;124m\"\u001b[39m\u001b[38;5;124mother_player_score\u001b[39m\u001b[38;5;124m\"\u001b[39m], obs[\u001b[38;5;124m\"\u001b[39m\u001b[38;5;124mcurrent_bet\u001b[39m\u001b[38;5;124m\"\u001b[39m], \u001b[38;5;28mint\u001b[39m(obs[\u001b[38;5;124m\"\u001b[39m\u001b[38;5;124mtrucable\u001b[39m\u001b[38;5;124m\"\u001b[39m]), \u001b[38;5;28mint\u001b[39m(obs[\u001b[38;5;124m\"\u001b[39m\u001b[38;5;124mrespond\u001b[39m\u001b[38;5;124m\"\u001b[39m]), \u001b[38;5;241m*\u001b[39mobs[\u001b[38;5;124m\"\u001b[39m\u001b[38;5;124mcard_frequency\u001b[39m\u001b[38;5;124m\"\u001b[39m]], dtype\u001b[38;5;241m=\u001b[39mnp\u001b[38;5;241m.\u001b[39mint64)\n\u001b[0;32m     18\u001b[0m     next_state \u001b[38;5;241m=\u001b[39m torch\u001b[38;5;241m.\u001b[39mfrom_numpy(next_state)\u001b[38;5;241m.\u001b[39munsqueeze(dim\u001b[38;5;241m=\u001b[39m\u001b[38;5;241m0\u001b[39m)\u001b[38;5;241m.\u001b[39mfloat()\u001b[38;5;241m.\u001b[39mto(device)\n",
      "File \u001b[1;32mc:\\Users\\Rodrigo\\Documents\\USP\\Turing\\RL\\truco\\RL_Truco\\truco_env.py:239\u001b[0m, in \u001b[0;36mTrucoMineiroEnv.step\u001b[1;34m(self, action)\u001b[0m\n\u001b[0;32m    237\u001b[0m \u001b[38;5;66;03m# Estimula e processa as ações dos demais jogadores (SUPORTE PARA APENAS 1v1 POR ENQUANTO)\u001b[39;00m\n\u001b[0;32m    238\u001b[0m \u001b[38;5;28;01mwhile\u001b[39;00m \u001b[38;5;129;01mnot\u001b[39;00m info[\u001b[38;5;124m\"\u001b[39m\u001b[38;5;124mround_ended\u001b[39m\u001b[38;5;124m\"\u001b[39m] \u001b[38;5;129;01mand\u001b[39;00m \u001b[38;5;28mself\u001b[39m\u001b[38;5;241m.\u001b[39mplayers[\u001b[38;5;28mself\u001b[39m\u001b[38;5;241m.\u001b[39mcurrent_player_index]\u001b[38;5;241m.\u001b[39mtype \u001b[38;5;241m==\u001b[39m NonLearningPlayer:\n\u001b[1;32m--> 239\u001b[0m     obs, reward, done, info \u001b[38;5;241m=\u001b[39m \u001b[38;5;28mself\u001b[39m\u001b[38;5;241m.\u001b[39mhandle_action(\u001b[38;5;28;43mself\u001b[39;49m\u001b[38;5;241;43m.\u001b[39;49m\u001b[43mplayers\u001b[49m\u001b[43m[\u001b[49m\u001b[38;5;28;43mself\u001b[39;49m\u001b[38;5;241;43m.\u001b[39;49m\u001b[43mcurrent_player_index\u001b[49m\u001b[43m]\u001b[49m\u001b[38;5;241;43m.\u001b[39;49m\u001b[43mchoose_action\u001b[49m\u001b[43m(\u001b[49m\u001b[43mobs\u001b[49m\u001b[43m,\u001b[49m\u001b[43m \u001b[49m\u001b[43minfo\u001b[49m\u001b[43m)\u001b[49m)\n\u001b[0;32m    240\u001b[0m \u001b[38;5;28;01mif\u001b[39;00m info[\u001b[38;5;124m\"\u001b[39m\u001b[38;5;124mround_ended\u001b[39m\u001b[38;5;124m\"\u001b[39m]:\n\u001b[0;32m    241\u001b[0m     \u001b[38;5;28;01mif\u001b[39;00m \u001b[38;5;28mself\u001b[39m\u001b[38;5;241m.\u001b[39mplayers[\u001b[38;5;28mself\u001b[39m\u001b[38;5;241m.\u001b[39mcurrent_player_index] \u001b[38;5;241m==\u001b[39m LearningPlayer:\n",
      "File \u001b[1;32mc:\\Users\\Rodrigo\\Documents\\USP\\Turing\\RL\\truco\\RL_Truco\\truco_env.py:81\u001b[0m, in \u001b[0;36mNetworkBotPlayer.choose_action\u001b[1;34m(self, obs, valid_actions)\u001b[0m\n\u001b[0;32m     79\u001b[0m \u001b[38;5;28mprint\u001b[39m(\u001b[38;5;124mf\u001b[39m\u001b[38;5;124m\"\u001b[39m\u001b[38;5;124mav: \u001b[39m\u001b[38;5;132;01m{\u001b[39;00mav\u001b[38;5;132;01m}\u001b[39;00m\u001b[38;5;124m\"\u001b[39m)\n\u001b[0;32m     80\u001b[0m \u001b[38;5;28mprint\u001b[39m(\u001b[38;5;124mf\u001b[39m\u001b[38;5;124m\"\u001b[39m\u001b[38;5;124mvalid_actions: \u001b[39m\u001b[38;5;132;01m{\u001b[39;00mvalid_actions\u001b[38;5;132;01m}\u001b[39;00m\u001b[38;5;124m\"\u001b[39m)\n\u001b[1;32m---> 81\u001b[0m action \u001b[38;5;241m=\u001b[39m valid_actions[np\u001b[38;5;241m.\u001b[39margmax([av[\u001b[38;5;241m0\u001b[39m, valid_action]\u001b[38;5;241m.\u001b[39mitem() \u001b[38;5;28;01mfor\u001b[39;00m valid_action \u001b[38;5;129;01min\u001b[39;00m valid_actions])]\n\u001b[0;32m     82\u001b[0m \u001b[38;5;28;01mreturn\u001b[39;00m action\n",
      "File \u001b[1;32mc:\\Users\\Rodrigo\\Documents\\USP\\Turing\\RL\\truco\\RL_Truco\\truco_env.py:81\u001b[0m, in \u001b[0;36m<listcomp>\u001b[1;34m(.0)\u001b[0m\n\u001b[0;32m     79\u001b[0m \u001b[38;5;28mprint\u001b[39m(\u001b[38;5;124mf\u001b[39m\u001b[38;5;124m\"\u001b[39m\u001b[38;5;124mav: \u001b[39m\u001b[38;5;132;01m{\u001b[39;00mav\u001b[38;5;132;01m}\u001b[39;00m\u001b[38;5;124m\"\u001b[39m)\n\u001b[0;32m     80\u001b[0m \u001b[38;5;28mprint\u001b[39m(\u001b[38;5;124mf\u001b[39m\u001b[38;5;124m\"\u001b[39m\u001b[38;5;124mvalid_actions: \u001b[39m\u001b[38;5;132;01m{\u001b[39;00mvalid_actions\u001b[38;5;132;01m}\u001b[39;00m\u001b[38;5;124m\"\u001b[39m)\n\u001b[1;32m---> 81\u001b[0m action \u001b[38;5;241m=\u001b[39m valid_actions[np\u001b[38;5;241m.\u001b[39margmax([\u001b[43mav\u001b[49m\u001b[43m[\u001b[49m\u001b[38;5;241;43m0\u001b[39;49m\u001b[43m,\u001b[49m\u001b[43m \u001b[49m\u001b[43mvalid_action\u001b[49m\u001b[43m]\u001b[49m\u001b[38;5;241m.\u001b[39mitem() \u001b[38;5;28;01mfor\u001b[39;00m valid_action \u001b[38;5;129;01min\u001b[39;00m valid_actions])]\n\u001b[0;32m     82\u001b[0m \u001b[38;5;28;01mreturn\u001b[39;00m action\n",
      "\u001b[1;31mTypeError\u001b[0m: new(): invalid data type 'str'"
     ]
    }
   ],
   "source": [
    "env = TrucoMineiroEnv(\n",
    "    num_players=2,\n",
    "    teams=[[LearningPlayer(\"deep_qlearning\")], [RandomBotPlayer(\"Aleatório\")]]\n",
    ")\n",
    "\n",
    "deep_qlearning = DeepQLearning(\n",
    "    env = env,\n",
    "    eps = 0.01,\n",
    "    alpha = 0.1,\n",
    "    gamma = 0.99,\n",
    "    transition_batch_size = 32,\n",
    "    copy_period = 100,\n",
    "    change_period = 100,\n",
    "    selection_window = 50,\n",
    "    Q_network = None\n",
    ")\n",
    "\n",
    "stats_deep_qlearning = deep_qlearning.run(num_episodes=(num_episodes:=50000))"
   ]
  },
  {
   "cell_type": "code",
   "execution_count": null,
   "id": "dc7fe212",
   "metadata": {},
   "outputs": [
    {
     "data": {
      "image/png": "[encoded data removed]",
      "text/plain": [
       "<Figure size 1080x504 with 1 Axes>"
      ]
     },
     "metadata": {
      "needs_background": "light"
     },
     "output_type": "display_data"
    }
   ],
   "source": [
    "skip = 100\n",
    "x = [i * skip for i in range(1, num_episodes//skip + 1)]\n",
    "y = stats_deep_qlearning[\"winrate\"]\n",
    "\n",
    "plt.figure(figsize=(15, 7))\n",
    "plt.plot(x, y)\n",
    "plt.xlabel(\"Episodes\")\n",
    "plt.ylabel(\"Winrate\")\n",
    "plt.title(f\"QLearning performance for {num_episodes} episodes; peak = {max(y):.3f}; last = {y[-1]:.3f}\")\n",
    "plt.show()"
   ]
  }
 ],
 "metadata": {
  "kernelspec": {
   "display_name": "Python 3 (ipykernel)",
   "language": "python",
   "name": "python3"
  },
  "language_info": {
   "codemirror_mode": {
    "name": "ipython",
    "version": 3
   },
   "file_extension": ".py",
   "mimetype": "text/x-python",
   "name": "python",
   "nbconvert_exporter": "python",
   "pygments_lexer": "ipython3",
   "version": "3.10.4"
  }
 },
 "nbformat": 4,
 "nbformat_minor": 5
}
